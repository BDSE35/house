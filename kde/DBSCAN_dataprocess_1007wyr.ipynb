{
 "cells": [
  {
   "cell_type": "code",
   "execution_count": 78,
   "metadata": {},
   "outputs": [],
   "source": [
    "import pandas as pd\n",
    "import numpy as np\n",
    "import os"
   ]
  },
  {
   "cell_type": "markdown",
   "metadata": {},
   "source": [
    "### 讀取檔案 應該更改file_path剩下照著跑就可以了"
   ]
  },
  {
   "cell_type": "code",
   "execution_count": 92,
   "metadata": {},
   "outputs": [
    {
     "name": "stderr",
     "output_type": "stream",
     "text": [
      "/var/folders/6g/zb_yk76n3gx45563jpl8swnw0000gn/T/ipykernel_32883/711469233.py:3: DtypeWarning: Columns (8) have mixed types. Specify dtype option on import or set low_memory=False.\n",
      "  data = pd.read_csv(file_path, encoding='utf-8')\n"
     ]
    }
   ],
   "source": [
    "# 讀取 CSV 檔案\n",
    "file_path = '/Users/andrewm1air/WYR/ispan/house/missingdata1014/house1022.csv' \n",
    "data = pd.read_csv(file_path, encoding='utf-8')\n",
    "\n",
    "# 提取需要的欄位\n",
    "new_data = data[['編號', '交易年月日', '經度', '緯度']]\n",
    "\n",
    "# 儲存為新的 CSV 檔案\n",
    "new_data.to_csv('plot-raw-data.csv', index=False, encoding='utf-8')\n"
   ]
  },
  {
   "cell_type": "code",
   "execution_count": 93,
   "metadata": {},
   "outputs": [
    {
     "data": {
      "text/plain": [
       "(266029, 4)"
      ]
     },
     "execution_count": 93,
     "metadata": {},
     "output_type": "execute_result"
    }
   ],
   "source": [
    "new_data.shape"
   ]
  },
  {
   "cell_type": "markdown",
   "metadata": {},
   "source": [
    "### 規範經緯度\n",
    "臺南市範圍 緯度23.42-22.89 經度120.656-120"
   ]
  },
  {
   "cell_type": "code",
   "execution_count": 94,
   "metadata": {},
   "outputs": [
    {
     "name": "stdout",
     "output_type": "stream",
     "text": [
      "已成功更新 DBSCANdata-1022.csv，並將經緯度儲存為 float 型別\n"
     ]
    }
   ],
   "source": [
    "import pandas as pd\n",
    "\n",
    "# 讀取 CSV 檔案\n",
    "df = pd.read_csv('plot-raw-data.csv')\n",
    "\n",
    "# 將經緯度轉換為 float，無法轉換的值將變為 NaN\n",
    "df['經度'] = pd.to_numeric(df['經度'], errors='coerce')\n",
    "df['緯度'] = pd.to_numeric(df['緯度'], errors='coerce')\n",
    "\n",
    "# 刪除無法轉換的行\n",
    "df = df.dropna(subset=['經度', '緯度'])\n",
    "\n",
    "# 將交易年月日轉換為 datetime 型別\n",
    "df['交易年月日'] = pd.to_datetime(df['交易年月日'], format='%Y-%m-%d')\n",
    "\n",
    "# 定義經緯度範圍\n",
    "lat_min, lat_max = 22.89, 23.42\n",
    "lon_min, lon_max = 120, 120.656\n",
    "\n",
    "# 過濾數據\n",
    "filtered_df = df[(df['緯度'] >= lat_min) & (df['緯度'] <= lat_max) & \n",
    "                 (df['經度'] >= lon_min) & (df['經度'] <= lon_max)]\n",
    "\n",
    "# 排序\n",
    "filtered_df = filtered_df.sort_values(by='交易年月日')\n",
    "\n",
    "# 將過濾後的數據存回原始的 CSV 檔案\n",
    "filtered_df.to_csv('DBSCANdata-1022.csv', index=False)\n",
    "\n",
    "print(\"已成功更新 DBSCANdata-1022.csv，並將經緯度儲存為 float 型別\")\n"
   ]
  },
  {
   "cell_type": "code",
   "execution_count": 95,
   "metadata": {},
   "outputs": [
    {
     "data": {
      "text/plain": [
       "(265815, 4)"
      ]
     },
     "execution_count": 95,
     "metadata": {},
     "output_type": "execute_result"
    }
   ],
   "source": [
    "filtered_df.shape"
   ]
  },
  {
   "cell_type": "markdown",
   "metadata": {},
   "source": [
    "檢查一下 交易年月日型別為datetime 經緯度為float"
   ]
  },
  {
   "cell_type": "code",
   "execution_count": 83,
   "metadata": {},
   "outputs": [
    {
     "name": "stdout",
     "output_type": "stream",
     "text": [
      "<class 'pandas.core.frame.DataFrame'>\n",
      "RangeIndex: 266029 entries, 0 to 266028\n",
      "Data columns (total 4 columns):\n",
      " #   Column  Non-Null Count   Dtype         \n",
      "---  ------  --------------   -----         \n",
      " 0   編號      266029 non-null  object        \n",
      " 1   交易年月日   266029 non-null  datetime64[ns]\n",
      " 2   經度      266029 non-null  float64       \n",
      " 3   緯度      266029 non-null  float64       \n",
      "dtypes: datetime64[ns](1), float64(2), object(1)\n",
      "memory usage: 8.1+ MB\n"
     ]
    }
   ],
   "source": [
    "df.info()"
   ]
  },
  {
   "cell_type": "markdown",
   "metadata": {},
   "source": [
    "### 經緯度轉公里\n",
    "1007改\n",
    "經度120.026-120.648 台南實際長度 = 0.6214經度 × 102公里/度 ≈ 62.14公里 <br> \n",
    "緯度22.884-23.408 台南實際寬度 = 0.5236緯度 × 111公里/度 ≈ 58.120公里\n",
    "\n",
    "---\n",
    "最初的方法：\n",
    "經度120-120.6 實際長度 = 0.6度 × 93公里 ≈ 55.8公里 <br> \n",
    "緯度22.5-23.5 實際寬度 = 1度 × 111公里 ≈ 111公里"
   ]
  },
  {
   "cell_type": "code",
   "execution_count": 96,
   "metadata": {},
   "outputs": [
    {
     "name": "stdout",
     "output_type": "stream",
     "text": [
      "已成功更新 DBSCANdata-1022.csv，並進行了經緯度的轉換\n"
     ]
    }
   ],
   "source": [
    "# 1007改\n",
    "\n",
    "filtered_df = pd.read_csv('plot-raw-data.csv', encoding='utf-8')\n",
    "# 對經度進行轉換\n",
    "filtered_df['經度'] = (((filtered_df['經度'] - 120.026) / 0.6214)* 62.14).round(6)\n",
    "\n",
    "# 對緯度進行轉換\n",
    "filtered_df['緯度'] = (((filtered_df['緯度'] - 22.884) /0.5236)* 58.120).round(6)\n",
    "filtered_df['緯度'] = (filtered_df['緯度']).round(6)\n",
    "\n",
    "# 將過濾後的數據存回原始的 CSV 檔案\n",
    "filtered_df.to_csv('DBSCANdata-1022.csv', index=False, encoding='utf-8')\n",
    "\n",
    "print(\"已成功更新 DBSCANdata-1022.csv，並進行了經緯度的轉換\")\n"
   ]
  },
  {
   "cell_type": "code",
   "execution_count": null,
   "metadata": {},
   "outputs": [],
   "source": []
  },
  {
   "cell_type": "markdown",
   "metadata": {},
   "source": [
    "提取year"
   ]
  },
  {
   "cell_type": "code",
   "execution_count": 97,
   "metadata": {},
   "outputs": [
    {
     "data": {
      "text/plain": [
       "<bound method IndexOpsMixin.value_counts of 0         2022\n",
       "1         2022\n",
       "2         2022\n",
       "3         2022\n",
       "4         2022\n",
       "          ... \n",
       "266024    2024\n",
       "266025    2024\n",
       "266026    2024\n",
       "266027    2024\n",
       "266028    2024\n",
       "Name: year, Length: 266029, dtype: Int64>"
      ]
     },
     "execution_count": 97,
     "metadata": {},
     "output_type": "execute_result"
    }
   ],
   "source": [
    "df = pd.read_csv('DBSCANdata-1022.csv', encoding='utf-8')\n",
    "\n",
    "df['交易年月日'] = pd.to_datetime(df['交易年月日'], errors='coerce')  # 轉換為datetime格式\n",
    "df['year'] = df['交易年月日'].dt.year.astype('Int64')  # 提取年份並轉換為整數類型\n",
    "df['year'].value_counts  # 查看結果\n"
   ]
  },
  {
   "cell_type": "markdown",
   "metadata": {},
   "source": [
    "groupby year"
   ]
  },
  {
   "cell_type": "code",
   "execution_count": 98,
   "metadata": {},
   "outputs": [
    {
     "name": "stdout",
     "output_type": "stream",
     "text": [
      "./yeargroup-1022/2012-1022.csv saved with 8873 rows.\n",
      "./yeargroup-1022/2013-1022.csv saved with 20407 rows.\n",
      "./yeargroup-1022/2014-1022.csv saved with 18440 rows.\n",
      "./yeargroup-1022/2015-1022.csv saved with 17025 rows.\n",
      "./yeargroup-1022/2016-1022.csv saved with 15500 rows.\n",
      "./yeargroup-1022/2017-1022.csv saved with 18367 rows.\n",
      "./yeargroup-1022/2018-1022.csv saved with 20775 rows.\n",
      "./yeargroup-1022/2019-1022.csv saved with 25485 rows.\n",
      "./yeargroup-1022/2020-1022.csv saved with 30733 rows.\n",
      "./yeargroup-1022/2021-1022.csv saved with 28681 rows.\n",
      "./yeargroup-1022/2022-1022.csv saved with 21625 rows.\n",
      "./yeargroup-1022/2023-1022.csv saved with 22968 rows.\n",
      "./yeargroup-1022/2024-1022.csv saved with 17150 rows.\n"
     ]
    }
   ],
   "source": [
    "import os\n",
    "\n",
    "\n",
    "\n",
    "# 確保yeargroup資料夾存在\n",
    "output_folder = './yeargroup-1022'\n",
    "os.makedirs(output_folder, exist_ok=True)\n",
    "\n",
    "# 提取年份\n",
    "df['year'] = df['交易年月日'].dt.year.astype('Int64')  # 確保年份為整數類型\n",
    "\n",
    "# 根據年份分組並輸出為csv\n",
    "for year, group in df.groupby('year'):\n",
    "    output_file = f'{output_folder}/{int(year)}-1022.csv'  # 將年份轉換為整數以避免小數點\n",
    "    group.to_csv(output_file, index=False, encoding='utf-8')\n",
    "    num_rows = len(group)  # 獲取該年份的行數\n",
    "    print(f'{output_file} saved with {num_rows} rows.')\n"
   ]
  },
  {
   "cell_type": "markdown",
   "metadata": {},
   "source": [
    "查看每年資料筆數"
   ]
  },
  {
   "cell_type": "code",
   "execution_count": 87,
   "metadata": {},
   "outputs": [],
   "source": [
    "# for year, group in df.groupby('year'):\n",
    "#     path = f'C:\\\\tainan\\\\yeargroup\\\\{year}.csv'  \n",
    "#     try:\n",
    "#         file = pd.read_csv(path) \n",
    "#         num_rows = len(file)  \n",
    "#         print(f\"{year}: {num_rows} 行\")\n",
    "#     except FileNotFoundError:\n",
    "#         print(f\"{path} 文件未找到。\")"
   ]
  },
  {
   "cell_type": "markdown",
   "metadata": {},
   "source": [
    "### 以下為季度的切割 目前還不需要\n",
    "建立儲存的資料夾 修改year_list到你想要的範圍即可"
   ]
  },
  {
   "cell_type": "code",
   "execution_count": 88,
   "metadata": {},
   "outputs": [],
   "source": [
    "# years_list = list(range(2011, 2025))\n",
    "\n",
    "# for year in years_list:\n",
    "#     folder_path = f\"C:\\\\tainan\\\\yeargroup\\\\{year}\"\n",
    "#     try:\n",
    "#         os.makedirs(folder_path)\n",
    "#         print(f\"資料夾 '{folder_path}' 創建成功。\")\n",
    "#     except FileExistsError:\n",
    "#         print(f\"資料夾 '{folder_path}' 已存在。\")\n",
    "#     except Exception as e:\n",
    "#         print(f\"錯誤: {e}\")"
   ]
  },
  {
   "cell_type": "code",
   "execution_count": 89,
   "metadata": {},
   "outputs": [],
   "source": [
    "# season = list(range(1,5))\n",
    "# for s in season:\n",
    "#     startm = 3*(s-1) + 1\n",
    "#     stopm = 3*s\n",
    "#     print(f\"第{s}季為{startm}到{stopm}月\")"
   ]
  },
  {
   "cell_type": "code",
   "execution_count": 90,
   "metadata": {},
   "outputs": [],
   "source": [
    "# years_list = list(range(2011, 2024))\n",
    "# for year in years_list:\n",
    "#     file = f'C:\\\\tainan\\\\yeargroup\\\\{year}.csv'\n",
    "#     ygdf = pd.read_csv(file)\n",
    "#     ygdf['交易年月日'] = pd.to_datetime(ygdf['交易年月日'])\n",
    "#     ygdf['month'] = ygdf['交易年月日'].dt.month\n",
    "#     for s in season:\n",
    "#         startm = 3*(s-1) + 1\n",
    "#         stopm = 3*s\n",
    "#         sgroup = ygdf[(ygdf['month'] >= startm) & (ygdf['month'] <= stopm)]\n",
    "#         sgroup.to_csv(f'C:\\\\tainan\\\\yeargroup\\\\{year}\\\\{year}_S{s}.csv')"
   ]
  },
  {
   "cell_type": "code",
   "execution_count": 91,
   "metadata": {},
   "outputs": [],
   "source": [
    "# years_list = list(range(2011, 2024))\n",
    "# season = list(range(1,5))\n",
    "# for y in years_list:\n",
    "#     for s in season:\n",
    "#         startm = 3*(s-1) + 1\n",
    "#         stopm = 3*s\n",
    "#         print(f'y{y}s{s}m{startm}to{stopm}')"
   ]
  }
 ],
 "metadata": {
  "kernelspec": {
   "display_name": "base",
   "language": "python",
   "name": "python3"
  },
  "language_info": {
   "codemirror_mode": {
    "name": "ipython",
    "version": 3
   },
   "file_extension": ".py",
   "mimetype": "text/x-python",
   "name": "python",
   "nbconvert_exporter": "python",
   "pygments_lexer": "ipython3",
   "version": "3.12.4"
  }
 },
 "nbformat": 4,
 "nbformat_minor": 2
}
