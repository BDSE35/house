{
 "cells": [
  {
   "cell_type": "code",
   "execution_count": 17,
   "metadata": {},
   "outputs": [],
   "source": [
    "# !pip install geopandas -q"
   ]
  },
  {
   "cell_type": "code",
   "execution_count": 18,
   "metadata": {},
   "outputs": [],
   "source": [
    "import pandas as pd\n",
    "import seaborn as sns\n",
    "import numpy as np\n",
    "import matplotlib.pyplot as plt\n",
    "from scipy.stats import gaussian_kde\n",
    "# import geopandas as gpd\n",
    "from shapely.geometry import Point"
   ]
  },
  {
   "cell_type": "code",
   "execution_count": 19,
   "metadata": {},
   "outputs": [],
   "source": [
    "folder_path = '.'"
   ]
  },
  {
   "cell_type": "code",
   "execution_count": 20,
   "metadata": {},
   "outputs": [],
   "source": [
    "years_list = list(range(2012, 2025))\n",
    "# season = list(range(1,5))\n",
    "# time_list = []\n",
    "# type(time_list)\n",
    "# for y in years_list:\n",
    "#     for s in season:\n",
    "#         startm = 3*(s-1) + 1\n",
    "#         stopm = 3*s\n",
    "#         time_list.append({'year': y, 'startm': startm, 'stopm': stopm})"
   ]
  },
  {
   "cell_type": "code",
   "execution_count": 21,
   "metadata": {},
   "outputs": [],
   "source": [
    "# for item in time_list:\n",
    "#     y = item['year']\n",
    "#     startm = item['startm']\n",
    "#     stopm = item['stopm']"
   ]
  },
  {
   "cell_type": "markdown",
   "metadata": {},
   "source": [
    "### 空值檢查"
   ]
  },
  {
   "cell_type": "code",
   "execution_count": 32,
   "metadata": {},
   "outputs": [],
   "source": [
    "for year in years_list:\n",
    "    file_path = fr'{folder_path}/yeargroup-1022/{year}-1022.csv'\n",
    "\n",
    "    data = pd.read_csv(file_path)\n",
    "\n",
    "    # 計算 \"經度\" 和 \"緯度\" 欄位的空值數量\n",
    "    missing_longitude = data['經度'].isnull().sum()\n",
    "    missing_latitude = data['緯度'].isnull().sum()\n",
    "    if missing_latitude != 0 | missing_longitude != 0:\n",
    "        print(f'Year: {year}, Missing Longitude: {missing_longitude}, Missing Latitude: {missing_latitude}')\n"
   ]
  },
  {
   "cell_type": "markdown",
   "metadata": {},
   "source": [
    "### 提醒!!!!!  <br> 修改的部分請加在def裡面即可，列印的部分修改output_folder就好其他盡量不要動 <br> 每個圖表儲存完後都一定要plt.close 已經先在列印的部分處理了"
   ]
  },
  {
   "cell_type": "markdown",
   "metadata": {},
   "source": [
    "### 方法"
   ]
  },
  {
   "cell_type": "code",
   "execution_count": 23,
   "metadata": {},
   "outputs": [],
   "source": [
    "def KdePlot(year):\n",
    "    file_path = fr'{folder_path}/yeargroup-1022/{year}-1022.csv'\n",
    "    data = pd.read_csv(file_path)\n",
    "\n",
    "    plt.figure(figsize=(12, 10))\n",
    "\n",
    "    kde_plot = sns.kdeplot(x=data['經度'], y=data['緯度'], fill=True)\n",
    "\n",
    "    plt.title(f'KDE Plot of Values for {year}')\n",
    "    plt.xlabel('Longitude (km)')\n",
    "    plt.ylabel('Latitude (km)')\n",
    "    plt.axis('equal')\n",
    "    plt.colorbar(kde_plot.collections[0], label='Density')"
   ]
  },
  {
   "cell_type": "code",
   "execution_count": 24,
   "metadata": {},
   "outputs": [],
   "source": [
    "def Valuepoints(year):\n",
    "    file_path = fr'{folder_path}/yeargroup-1022/{year}-1022.csv'\n",
    "    data = pd.read_csv(file_path)\n",
    "    plt.figure(figsize=(12, 10))\n",
    "    sns.scatterplot(x='經度', y='緯度', data=data, alpha=0.5)\n",
    "    plt.title(f'Values for {year}')\n",
    "    plt.xlabel('Longitude (km)')\n",
    "    plt.ylabel('Latitude (km)')\n",
    "    plt.grid(True)\n",
    "    plt.axis('equal')"
   ]
  },
  {
   "cell_type": "code",
   "execution_count": 35,
   "metadata": {},
   "outputs": [],
   "source": [
    "def KdeValue(year, bw_method):\n",
    "    file_path = fr'{folder_path}/yeargroup-1022/{year}-1022.csv'\n",
    "    data = pd.read_csv(file_path)\n",
    "\n",
    "    # 假設這裡的 '經度' 和 '緯度' 已經轉換為公里\n",
    "    longitude_km = data['經度']\n",
    "    latitude_km = data['緯度']\n",
    "\n",
    "    # 準備數據進行KDE計算\n",
    "    data_points = np.vstack([longitude_km, latitude_km])\n",
    "\n",
    "    # 使用 gaussian_kde 計算KDE\n",
    "    kde = gaussian_kde(data_points, bw_method)\n",
    "\n",
    "    # 直接計算原始數據點的KDE值\n",
    "    kde_values = kde(data_points)\n",
    "\n",
    "    return kde_values"
   ]
  },
  {
   "cell_type": "markdown",
   "metadata": {},
   "source": [
    "### 列印圖表"
   ]
  },
  {
   "cell_type": "code",
   "execution_count": 26,
   "metadata": {},
   "outputs": [],
   "source": [
    "# for year in years_list:\n",
    "#     output_folder = f'{folder_path}KDEplot'\n",
    "#     Kdefile_name = f'{output_folder}\\\\KDEplot{year}.png'\n",
    "    \n",
    "#     KdePlot(year)\n",
    "\n",
    "#     plt.savefig(Kdefile_name, bbox_inches='tight')\n",
    "#     plt.close()"
   ]
  },
  {
   "cell_type": "code",
   "execution_count": 27,
   "metadata": {},
   "outputs": [],
   "source": [
    "# for year in years_list:\n",
    "#     output_folder = f'{folder_path}Valuepoints'\n",
    "#     Kdefile_name = f'{output_folder}\\Valuepoints{year}.png'\n",
    "\n",
    "#     Valuepoints(year)\n",
    "\n",
    "#     plt.savefig(Kdefile_name, bbox_inches='tight')\n",
    "#     plt.close()"
   ]
  },
  {
   "cell_type": "code",
   "execution_count": 28,
   "metadata": {},
   "outputs": [
    {
     "data": {
      "text/plain": [
       "'./yeargroup-1022/2024-1022.csv'"
      ]
     },
     "execution_count": 28,
     "metadata": {},
     "output_type": "execute_result"
    }
   ],
   "source": [
    "file_path"
   ]
  },
  {
   "cell_type": "markdown",
   "metadata": {},
   "source": [
    "### 三種KDE"
   ]
  },
  {
   "cell_type": "code",
   "execution_count": 33,
   "metadata": {},
   "outputs": [],
   "source": [
    "for year in years_list:\n",
    "\n",
    "    #記得先做之前的dataprocess\n",
    "    # file_path = fr'{folder_path}yeargroup-1022\\{year}-1022.csv'\n",
    "    # output_file_path = fr'{folder_path}yeargroupwithKDE\\{year}-1022.csv'\n",
    "    file_path = fr'{folder_path}/yeargroup-1022/{year}-1022.csv'\n",
    "    output_file_path = fr'{folder_path}/yeargroupwithKDE-1022/{year}-1022.csv'\n",
    "\n",
    "    \n",
    "    Kde_df= pd.DataFrame()\n",
    "    for bw in [0.5, 1, 1.5]:\n",
    "        column_name = f'KDE_{bw}km'\n",
    "        Kde_df[column_name] = KdeValue(year, bw)\n",
    "    \n",
    "    original_data = pd.read_csv(file_path)\n",
    "    Kde_df = pd.concat([original_data, Kde_df], axis=1)\n",
    "\n",
    "    Kde_df.to_csv(output_file_path, index=False, encoding='utf-8')"
   ]
  },
  {
   "cell_type": "markdown",
   "metadata": {},
   "source": [
    "### 輸出只有編號+KDE*3"
   ]
  },
  {
   "cell_type": "code",
   "execution_count": 30,
   "metadata": {},
   "outputs": [],
   "source": [
    "# output_file_path = fr'{folder_path}/yeargroupwithKDE-1022/kde_results.csv'\n",
    "\n",
    "# # 創建一個空的 DataFrame 用於儲存所有結果\n",
    "# all_results_df = pd.DataFrame()\n",
    "\n",
    "# for year in years_list: \n",
    "#     file_path = fr'{folder_path}/yeargroupwithKDE-1022/{year}-1022.csv'\n",
    "    \n",
    "#     # 讀取 CSV 文件\n",
    "#     data = pd.read_csv(file_path)\n",
    "    \n",
    "#     # 提取「編號」和三個 KDE 值\n",
    "#     result_df = data[['編號', 'KDE_0.5km', 'KDE_1km', 'KDE_1.5km']]\n",
    "    \n",
    "#     # 將結果追加到總的 DataFrame 中\n",
    "#     all_results_df = pd.concat([all_results_df, result_df], ignore_index=True)\n",
    "\n",
    "# # 將所有結果保存到一個 CSV 文件\n",
    "# all_results_df.to_csv(output_file_path, index=False)"
   ]
  },
  {
   "cell_type": "code",
   "execution_count": 34,
   "metadata": {},
   "outputs": [],
   "source": [
    "import os\n",
    "import pandas as pd\n",
    "\n",
    "# 設定文件夾路徑\n",
    "output_file_path = fr'{folder_path}/yeargroupwithKDE-1022/kde_results.csv'\n",
    "\n",
    "# 創建一個空的 DataFrame 用於儲存所有結果\n",
    "all_results_df = pd.DataFrame()\n",
    "\n",
    "# 遍歷所有年份的文件\n",
    "for year in years_list:\n",
    "    file_path = fr'{folder_path}/yeargroupwithKDE-1022/{year}-1022.csv'\n",
    "    \n",
    "    # 讀取 CSV 文件\n",
    "    data = pd.read_csv(file_path)\n",
    "    \n",
    "    # 將讀取到的數據合併到總的 DataFrame 中\n",
    "    all_results_df = pd.concat([all_results_df, data], ignore_index=True)\n",
    "\n",
    "# 只保留所需的「編號」和三個 KDE 值的列\n",
    "all_results_df = all_results_df[['編號', 'KDE_0.5km', 'KDE_1km', 'KDE_1.5km']]\n",
    "\n",
    "# 將所有結果保存到一個 CSV 文件\n",
    "all_results_df.to_csv(output_file_path, index=False)\n"
   ]
  },
  {
   "cell_type": "markdown",
   "metadata": {},
   "source": [
    "# 一種kde"
   ]
  },
  {
   "cell_type": "code",
   "execution_count": 37,
   "metadata": {},
   "outputs": [],
   "source": [
    "def oneKdeValue(year):\n",
    "    file_path = f'./yeargroup-1022/{year}-1022.csv'\n",
    "    data = pd.read_csv(file_path)\n",
    "\n",
    "    # 假設這裡的 '經度' 和 '緯度' 已經轉換為公里\n",
    "    longitude_km = data['經度']\n",
    "    latitude_km = data['緯度']\n",
    "\n",
    "    # 準備數據進行KDE計算\n",
    "    data_points = np.vstack([longitude_km, latitude_km])\n",
    "\n",
    "    # 使用 gaussian_kde 計算KDE\n",
    "    kde = gaussian_kde(data_points)\n",
    "\n",
    "    # 直接計算原始數據點的KDE值\n",
    "    kde_values = kde(data_points)\n",
    "\n",
    "    return kde_values"
   ]
  },
  {
   "cell_type": "code",
   "execution_count": 39,
   "metadata": {},
   "outputs": [
    {
     "name": "stdout",
     "output_type": "stream",
     "text": [
      "Reading data for year: 2012 from ./yeargroup-1022/2012-1022.csv...\n",
      "Calculating KDE for year: 2012...\n",
      "Saving updated data with KDE for year: 2012 to ./yeargroup-1022-onekde/2012-1022.csv...\n",
      "Finished processing for year: 2012\n",
      "\n",
      "Reading data for year: 2013 from ./yeargroup-1022/2013-1022.csv...\n",
      "Calculating KDE for year: 2013...\n",
      "Saving updated data with KDE for year: 2013 to ./yeargroup-1022-onekde/2013-1022.csv...\n",
      "Finished processing for year: 2013\n",
      "\n",
      "Reading data for year: 2014 from ./yeargroup-1022/2014-1022.csv...\n",
      "Calculating KDE for year: 2014...\n",
      "Saving updated data with KDE for year: 2014 to ./yeargroup-1022-onekde/2014-1022.csv...\n",
      "Finished processing for year: 2014\n",
      "\n",
      "Reading data for year: 2015 from ./yeargroup-1022/2015-1022.csv...\n",
      "Calculating KDE for year: 2015...\n",
      "Saving updated data with KDE for year: 2015 to ./yeargroup-1022-onekde/2015-1022.csv...\n",
      "Finished processing for year: 2015\n",
      "\n",
      "Reading data for year: 2016 from ./yeargroup-1022/2016-1022.csv...\n",
      "Calculating KDE for year: 2016...\n",
      "Saving updated data with KDE for year: 2016 to ./yeargroup-1022-onekde/2016-1022.csv...\n",
      "Finished processing for year: 2016\n",
      "\n",
      "Reading data for year: 2017 from ./yeargroup-1022/2017-1022.csv...\n",
      "Calculating KDE for year: 2017...\n",
      "Saving updated data with KDE for year: 2017 to ./yeargroup-1022-onekde/2017-1022.csv...\n",
      "Finished processing for year: 2017\n",
      "\n",
      "Reading data for year: 2018 from ./yeargroup-1022/2018-1022.csv...\n",
      "Calculating KDE for year: 2018...\n",
      "Saving updated data with KDE for year: 2018 to ./yeargroup-1022-onekde/2018-1022.csv...\n",
      "Finished processing for year: 2018\n",
      "\n",
      "Reading data for year: 2019 from ./yeargroup-1022/2019-1022.csv...\n",
      "Calculating KDE for year: 2019...\n",
      "Saving updated data with KDE for year: 2019 to ./yeargroup-1022-onekde/2019-1022.csv...\n",
      "Finished processing for year: 2019\n",
      "\n",
      "Reading data for year: 2020 from ./yeargroup-1022/2020-1022.csv...\n",
      "Calculating KDE for year: 2020...\n",
      "Saving updated data with KDE for year: 2020 to ./yeargroup-1022-onekde/2020-1022.csv...\n",
      "Finished processing for year: 2020\n",
      "\n",
      "Reading data for year: 2021 from ./yeargroup-1022/2021-1022.csv...\n",
      "Calculating KDE for year: 2021...\n",
      "Saving updated data with KDE for year: 2021 to ./yeargroup-1022-onekde/2021-1022.csv...\n",
      "Finished processing for year: 2021\n",
      "\n",
      "Reading data for year: 2022 from ./yeargroup-1022/2022-1022.csv...\n",
      "Calculating KDE for year: 2022...\n",
      "Saving updated data with KDE for year: 2022 to ./yeargroup-1022-onekde/2022-1022.csv...\n",
      "Finished processing for year: 2022\n",
      "\n",
      "Reading data for year: 2023 from ./yeargroup-1022/2023-1022.csv...\n",
      "Calculating KDE for year: 2023...\n",
      "Saving updated data with KDE for year: 2023 to ./yeargroup-1022-onekde/2023-1022.csv...\n",
      "Finished processing for year: 2023\n",
      "\n",
      "Reading data for year: 2024 from ./yeargroup-1022/2024-1022.csv...\n",
      "Calculating KDE for year: 2024...\n",
      "Saving updated data with KDE for year: 2024 to ./yeargroup-1022-onekde/2024-1022.csv...\n",
      "Finished processing for year: 2024\n",
      "\n"
     ]
    }
   ],
   "source": [
    "for year in years_list:\n",
    "    # 設置輸入文件路徑和輸出文件路徑\n",
    "    file_path = f'./yeargroup-1022/{year}-1022.csv'\n",
    "    output_file_path = f'./yeargroup-1022-onekde/{year}-1022.csv'\n",
    "\n",
    "    # 打印開始處理的年份和讀取文件的訊息\n",
    "    print(f'Reading data for year: {year} from {file_path}...')\n",
    "    \n",
    "    # 讀取 CSV 文件\n",
    "    data = pd.read_csv(file_path)\n",
    "    \n",
    "    # 打印 KDE 計算的訊息\n",
    "    print(f'Calculating KDE for year: {year}...')\n",
    "    data['KDE'] = oneKdeValue(year)\n",
    "    \n",
    "    # 打印保存文件的訊息\n",
    "    print(f'Saving updated data with KDE for year: {year} to {output_file_path}...')\n",
    "    data.to_csv(output_file_path, index=False)\n",
    "    \n",
    "    # 打印完成處理的訊息\n",
    "    print(f'Finished processing for year: {year}\\n')\n"
   ]
  }
 ],
 "metadata": {
  "kernelspec": {
   "display_name": "base",
   "language": "python",
   "name": "python3"
  },
  "language_info": {
   "codemirror_mode": {
    "name": "ipython",
    "version": 3
   },
   "file_extension": ".py",
   "mimetype": "text/x-python",
   "name": "python",
   "nbconvert_exporter": "python",
   "pygments_lexer": "ipython3",
   "version": "3.12.4"
  }
 },
 "nbformat": 4,
 "nbformat_minor": 2
}
