{
 "cells": [
  {
   "cell_type": "code",
   "execution_count": null,
   "metadata": {},
   "outputs": [],
   "source": [
    "# 1. Create '房地總價元' column\n",
    "# 2. Add 格局比例 4 columns: 房、廳、衛、隔間\n",
    "# 3. One-hot encoding for '是否包含車位' by extracting the number after '車位'"
   ]
  },
  {
   "cell_type": "code",
   "execution_count": 17,
   "metadata": {},
   "outputs": [
    {
     "data": {
      "text/html": [
       "<div>\n",
       "<style scoped>\n",
       "    .dataframe tbody tr th:only-of-type {\n",
       "        vertical-align: middle;\n",
       "    }\n",
       "\n",
       "    .dataframe tbody tr th {\n",
       "        vertical-align: top;\n",
       "    }\n",
       "\n",
       "    .dataframe thead th {\n",
       "        text-align: right;\n",
       "    }\n",
       "</style>\n",
       "<table border=\"1\" class=\"dataframe\">\n",
       "  <thead>\n",
       "    <tr style=\"text-align: right;\">\n",
       "      <th></th>\n",
       "      <th>鄉鎮市區</th>\n",
       "      <th>交易標的</th>\n",
       "      <th>土地位置建物門牌</th>\n",
       "      <th>土地移轉總面積平方公尺</th>\n",
       "      <th>都市土地使用分區</th>\n",
       "      <th>非都市土地使用分區</th>\n",
       "      <th>非都市土地使用編定</th>\n",
       "      <th>交易年月日</th>\n",
       "      <th>交易筆棟數</th>\n",
       "      <th>移轉層次</th>\n",
       "      <th>總樓層數</th>\n",
       "      <th>建物型態</th>\n",
       "      <th>主要用途</th>\n",
       "      <th>主要建材</th>\n",
       "      <th>建築完成年月</th>\n",
       "      <th>建物移轉總面積平方公尺</th>\n",
       "      <th>建物現況格局-房</th>\n",
       "      <th>建物現況格局-廳</th>\n",
       "      <th>建物現況格局-衛</th>\n",
       "      <th>建物現況格局-隔間</th>\n",
       "      <th>有無管理組織</th>\n",
       "      <th>總價元</th>\n",
       "      <th>單價元平方公尺</th>\n",
       "      <th>車位類別</th>\n",
       "      <th>車位移轉總面積平方公尺</th>\n",
       "      <th>車位總價元</th>\n",
       "      <th>備註</th>\n",
       "      <th>編號</th>\n",
       "      <th>主建物面積</th>\n",
       "      <th>附屬建物面積</th>\n",
       "      <th>陽台面積</th>\n",
       "      <th>電梯</th>\n",
       "      <th>移轉編號</th>\n",
       "      <th>建案名稱</th>\n",
       "      <th>棟及號</th>\n",
       "      <th>解約情形</th>\n",
       "      <th>緯度</th>\n",
       "      <th>經度</th>\n",
       "    </tr>\n",
       "  </thead>\n",
       "  <tbody>\n",
       "    <tr>\n",
       "      <th>0</th>\n",
       "      <td>西港區</td>\n",
       "      <td>房地(土地+建物)</td>\n",
       "      <td>臺南市西港區溪埔寮３３之３９號</td>\n",
       "      <td>82.39</td>\n",
       "      <td>NaN</td>\n",
       "      <td>鄉村區</td>\n",
       "      <td>乙種建築用地</td>\n",
       "      <td>2022-03-23</td>\n",
       "      <td>土地3建物1車位0</td>\n",
       "      <td>全</td>\n",
       "      <td>四層</td>\n",
       "      <td>透天厝</td>\n",
       "      <td>住家用</td>\n",
       "      <td>鋼筋混凝土造</td>\n",
       "      <td>1120802.0</td>\n",
       "      <td>155.06</td>\n",
       "      <td>4</td>\n",
       "      <td>2</td>\n",
       "      <td>3</td>\n",
       "      <td>有</td>\n",
       "      <td>無</td>\n",
       "      <td>10600000</td>\n",
       "      <td>68361.0</td>\n",
       "      <td>NaN</td>\n",
       "      <td>0.0</td>\n",
       "      <td>0</td>\n",
       "      <td>預售屋、或土地及建物分件登記案件；</td>\n",
       "      <td>RPVOMLKKMHJGFGD38DA</td>\n",
       "      <td>148.74</td>\n",
       "      <td>0.0</td>\n",
       "      <td>6.32</td>\n",
       "      <td>無</td>\n",
       "      <td>NaN</td>\n",
       "      <td>NaN</td>\n",
       "      <td>NaN</td>\n",
       "      <td>NaN</td>\n",
       "      <td>23.084845</td>\n",
       "      <td>120.186315</td>\n",
       "    </tr>\n",
       "  </tbody>\n",
       "</table>\n",
       "</div>"
      ],
      "text/plain": [
       "  鄉鎮市區       交易標的         土地位置建物門牌  土地移轉總面積平方公尺 都市土地使用分區 非都市土地使用分區 非都市土地使用編定  \\\n",
       "0  西港區  房地(土地+建物)  臺南市西港區溪埔寮３３之３９號        82.39      NaN       鄉村區    乙種建築用地   \n",
       "\n",
       "        交易年月日      交易筆棟數 移轉層次 總樓層數 建物型態 主要用途    主要建材     建築完成年月  建物移轉總面積平方公尺  \\\n",
       "0  2022-03-23  土地3建物1車位0    全   四層  透天厝  住家用  鋼筋混凝土造  1120802.0       155.06   \n",
       "\n",
       "   建物現況格局-房  建物現況格局-廳  建物現況格局-衛 建物現況格局-隔間 有無管理組織       總價元  單價元平方公尺 車位類別  \\\n",
       "0         4         2         3         有      無  10600000  68361.0  NaN   \n",
       "\n",
       "   車位移轉總面積平方公尺  車位總價元                 備註                   編號   主建物面積  附屬建物面積  \\\n",
       "0          0.0      0  預售屋、或土地及建物分件登記案件；  RPVOMLKKMHJGFGD38DA  148.74     0.0   \n",
       "\n",
       "   陽台面積 電梯  移轉編號 建案名稱  棟及號 解約情形         緯度          經度  \n",
       "0  6.32  無   NaN  NaN  NaN  NaN  23.084845  120.186315  "
      ]
     },
     "execution_count": 17,
     "metadata": {},
     "output_type": "execute_result"
    }
   ],
   "source": [
    "import pandas as pd\n",
    "\n",
    "df = pd.read_csv('./updated_geocode_1016.csv')\n",
    "\n",
    "pd.set_option('display.max_columns', None)\n",
    "\n",
    "df.head(1)\n"
   ]
  },
  {
   "cell_type": "code",
   "execution_count": 18,
   "metadata": {},
   "outputs": [],
   "source": [
    "# 1. Create '房地總價元' column\n",
    "df['房地總價元'] = df['總價元'] - df['車位總價元']"
   ]
  },
  {
   "cell_type": "code",
   "execution_count": 19,
   "metadata": {},
   "outputs": [
    {
     "name": "stderr",
     "output_type": "stream",
     "text": [
      "/var/folders/6g/zb_yk76n3gx45563jpl8swnw0000gn/T/ipykernel_92963/1911475016.py:3: FutureWarning: Downcasting behavior in `replace` is deprecated and will be removed in a future version. To retain the old behavior, explicitly call `result.infer_objects(copy=False)`. To opt-in to the future behavior, set `pd.set_option('future.no_silent_downcasting', True)`\n",
      "  df['建物現況格局-隔間-轉數字'] = df['建物現況格局-隔間'].replace({'有': 1, '無': 0})\n"
     ]
    }
   ],
   "source": [
    "# 2. Add 格局比例 4 columns: 房、廳、衛、隔間\n",
    "\n",
    "# Replace '有' with 1 and '無' with 0 in '建物現況格局-隔間'\n",
    "df['建物現況格局-隔間-轉數字'] = df['建物現況格局-隔間'].replace({'有': 1, '無': 0})\n",
    "\n",
    "# Calculate the total number of rooms\n",
    "total_rooms = df[['建物現況格局-房', '建物現況格局-廳', '建物現況格局-衛', '建物現況格局-隔間-轉數字']].sum(axis=1)\n",
    "\n",
    "# Calculate proportions\n",
    "df['格局比例_房'] = df['建物現況格局-房'] / total_rooms\n",
    "df['格局比例_廳'] = df['建物現況格局-廳'] / total_rooms\n",
    "df['格局比例_衛'] = df['建物現況格局-衛'] / total_rooms\n",
    "df['格局比例_隔間'] = df['建物現況格局-隔間-轉數字'] / total_rooms\n",
    "\n",
    "# Drop the temporary '建物現況格局-隔間-轉數字' column\n",
    "df.drop(columns=['建物現況格局-隔間-轉數字'], inplace=True)\n",
    "\n",
    "# Replace NaN with 0 in the proportion columns\n",
    "df[['格局比例_房', '格局比例_廳', '格局比例_衛', '格局比例_隔間']] = df[['格局比例_房', '格局比例_廳', '格局比例_衛', '格局比例_隔間']].fillna(0)\n",
    "\n",
    "# Replace values equal to 1 in '格局比例_廳' and '格局比例_衛' with 0\n",
    "df['格局比例_廳'] = df['格局比例_廳'].replace(1, 0)\n",
    "df['格局比例_衛'] = df['格局比例_衛'].replace(1, 0)"
   ]
  },
  {
   "cell_type": "code",
   "execution_count": 20,
   "metadata": {},
   "outputs": [],
   "source": [
    "# 3. One-hot encoding for '是否包含車位' by extracting the number after '車位'\n",
    "df['是否包含車位'] = df['交易筆棟數'].str.extract(r'車位(\\d+)').fillna(0).astype(int)\n",
    "df['是否包含車位'] = df['是否包含車位'].apply(lambda x: 1 if x > 0 else 0)"
   ]
  },
  {
   "cell_type": "code",
   "execution_count": 21,
   "metadata": {},
   "outputs": [
    {
     "data": {
      "text/plain": [
       "(0, 44)"
      ]
     },
     "execution_count": 21,
     "metadata": {},
     "output_type": "execute_result"
    }
   ],
   "source": [
    "# Check NaN values\n",
    "columns_to_check = ['房地總價元', '格局比例_房', '格局比例_廳', '格局比例_衛', '格局比例_隔間', '是否包含車位']\n",
    "\n",
    "nan_rows = df[df[columns_to_check].isnull().any(axis=1)]\n",
    "\n",
    "nan_rows.shape"
   ]
  },
  {
   "cell_type": "code",
   "execution_count": 22,
   "metadata": {},
   "outputs": [],
   "source": [
    "df.to_csv('geocode_and_onehot_yanru_1016.csv', index=False)"
   ]
  }
 ],
 "metadata": {
  "kernelspec": {
   "display_name": "base",
   "language": "python",
   "name": "python3"
  },
  "language_info": {
   "codemirror_mode": {
    "name": "ipython",
    "version": 3
   },
   "file_extension": ".py",
   "mimetype": "text/x-python",
   "name": "python",
   "nbconvert_exporter": "python",
   "pygments_lexer": "ipython3",
   "version": "3.12.4"
  }
 },
 "nbformat": 4,
 "nbformat_minor": 2
}
